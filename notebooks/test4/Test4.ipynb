{
 "cells": [
  {
   "cell_type": "code",
   "execution_count": 1,
   "metadata": {
    "collapsed": false
   },
   "outputs": [],
   "source": [
    "import json\n",
    "\n",
    "template = [\n",
    "    'ostentatiously',\n",
    "    'effectiveness',\n",
    "    'uniqueness',\n",
    "    'insolvency',\n",
    "    'social_pessimism',\n",
    "    'breakdown_cultural_barriers',\n",
    "    'maximalism',\n",
    "    'time_perspective',\n",
    "    'nosuicide_factor',\n",
    "]\n",
    "\n",
    "\n",
    "data = [[None, None] for i in xrange(29)]\n",
    "\n",
    "with open('test_coeff.csv') as f:\n",
    "    for fidx, i in enumerate(f):\n",
    "        result = {}\n",
    "\n",
    "        if not i:\n",
    "            continue\n",
    "\n",
    "        vals = i.split(',')\n",
    "        for idx, key in enumerate(template):\n",
    "            result[key] = float(vals[idx])\n",
    "\n",
    "        data[int(fidx/2)][0 if (fidx % 2) == 0 else 1] = result\n",
    "\n",
    "data = zip([i.strip(\"\\n\\r\") for i in open('Test4.aspx')], data)"
   ]
  },
  {
   "cell_type": "code",
   "execution_count": 2,
   "metadata": {
    "collapsed": false
   },
   "outputs": [],
   "source": [
    "import datetime\n",
    "import django\n",
    "django.setup()\n",
    "\n",
    "from exam.models import *"
   ]
  },
  {
   "cell_type": "code",
   "execution_count": 3,
   "metadata": {
    "collapsed": false
   },
   "outputs": [],
   "source": [
    "test, is_new = Test.objects.get_or_create(title=u\"Суицидальный риск\")\n",
    "\n",
    "c = 1\n",
    "for question, variant in data:\n",
    "    positive, negative = variant\n",
    "    q, is_new = Question.objects.get_or_create(test=test, description=question, number=c, type=0)\n",
    "\n",
    "    Variant.objects.get_or_create(question=q, text=u\"Да\", value=positive)\n",
    "    Variant.objects.get_or_create(question=q, text=u\"Нет\", value=negative)\n",
    "\n",
    "    c += 1"
   ]
  },
  {
   "cell_type": "code",
   "execution_count": null,
   "metadata": {
    "collapsed": true
   },
   "outputs": [],
   "source": []
  }
 ],
 "metadata": {
  "kernelspec": {
   "display_name": "Python 2",
   "language": "python",
   "name": "python2"
  },
  "language_info": {
   "codemirror_mode": {
    "name": "ipython",
    "version": 2
   },
   "file_extension": ".py",
   "mimetype": "text/x-python",
   "name": "python",
   "nbconvert_exporter": "python",
   "pygments_lexer": "ipython2",
   "version": "2.7.10"
  }
 },
 "nbformat": 4,
 "nbformat_minor": 0
}
